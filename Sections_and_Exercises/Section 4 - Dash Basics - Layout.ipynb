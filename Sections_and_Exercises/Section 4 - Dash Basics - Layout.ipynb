{
 "cells": [
  {
   "cell_type": "markdown",
   "id": "8277f9ea",
   "metadata": {},
   "source": [
    "# Section 4: Dash Basics - Layout\n",
    "\n",
    "Dash can bring your visualizations from the desktop to the web. Dash provides Python users access to HTML, CSS, and Javascript components in the form of Python-based methods or function parameters. These provide customizable applications that can include the interactive, fully customizable nature of Plotly visualizations or the aesthetic nature of Seaborn visualizations (also fairly customizable, but not to the extent of Plotly). For more experienced Python programmers who have the time to fine-tune visualizations, Dash is the dashboard creator of choice over PowerBi and Tableau."
   ]
  },
  {
   "cell_type": "code",
   "execution_count": null,
   "id": "1d06031b",
   "metadata": {},
   "outputs": [],
   "source": [
    "# Imports\n",
    "\n",
    "import numpy as np\n",
    "import pandas as pd\n",
    "import plotly.graph_objs as go\n",
    "from plotly.offline import iplot as pyo\n",
    "import dash.dash_core_components as dcc\n",
    "import dash.html as html"
   ]
  }
 ],
 "metadata": {
  "kernelspec": {
   "display_name": "Python 3 (ipykernel)",
   "language": "python",
   "name": "python3"
  },
  "language_info": {
   "codemirror_mode": {
    "name": "ipython",
    "version": 3
   },
   "file_extension": ".py",
   "mimetype": "text/x-python",
   "name": "python",
   "nbconvert_exporter": "python",
   "pygments_lexer": "ipython3",
   "version": "3.8.12"
  }
 },
 "nbformat": 4,
 "nbformat_minor": 5
}
